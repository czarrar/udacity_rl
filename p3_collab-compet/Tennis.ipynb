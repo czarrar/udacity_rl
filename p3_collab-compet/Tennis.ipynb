{
 "cells": [
  {
   "cell_type": "markdown",
   "metadata": {},
   "source": [
    "# Collaboration and Competition\n",
    "\n",
    "---\n",
    "\n",
    "In this notebook, you will learn how to use the Unity ML-Agents environment for the third project of the [Deep Reinforcement Learning Nanodegree](https://www.udacity.com/course/deep-reinforcement-learning-nanodegree--nd893) program.\n",
    "\n",
    "## 1. Start the Environment\n",
    "\n",
    "We begin by importing the necessary packages.  If the code cell below returns an error, please revisit the project instructions to double-check that you have installed [Unity ML-Agents](https://github.com/Unity-Technologies/ml-agents/blob/master/docs/Installation.md) and [NumPy](http://www.numpy.org/)."
   ]
  },
  {
   "cell_type": "code",
   "execution_count": 1,
   "metadata": {},
   "outputs": [
    {
     "name": "stdout",
     "output_type": "stream",
     "text": [
      "Processing /home/workspace/python\n",
      "Collecting tensorflow==1.7.1 (from unityagents==0.4.0)\n",
      "\u001b[?25l  Downloading https://files.pythonhosted.org/packages/66/83/35c3f53129dfc80d65ebbe07ef0575263c3c05cc37f8c713674dcedcea6f/tensorflow-1.7.1-cp36-cp36m-manylinux1_x86_64.whl (48.1MB)\n",
      "\u001b[K    100% |████████████████████████████████| 48.1MB 418kB/s ta 0:00:011  2% |▊                               | 1.1MB 14.0MB/s eta 0:00:04    5% |█▉                              | 2.7MB 10.2MB/s eta 0:00:05    6% |██▏                             | 3.3MB 22.7MB/s eta 0:00:02    9% |███                             | 4.4MB 12.1MB/s eta 0:00:04    11% |███▋                            | 5.5MB 10.9MB/s eta 0:00:04    12% |████                            | 6.0MB 9.2MB/s eta 0:00:05    13% |████▍                           | 6.6MB 17.1MB/s eta 0:00:03    16% |█████▏                          | 7.7MB 23.9MB/s eta 0:00:02    17% |█████▌                          | 8.2MB 7.6MB/s eta 0:00:06    18% |█████▉                          | 8.8MB 12.5MB/s eta 0:00:04    20% |██████▌                         | 9.8MB 9.8MB/s eta 0:00:04    22% |███████▏                        | 10.7MB 9.4MB/s eta 0:00:04    25% |████████▏                       | 12.3MB 22.6MB/s eta 0:00:02    27% |████████▉                       | 13.3MB 12.6MB/s eta 0:00:03    33% |██████████▋                     | 16.0MB 22.5MB/s eta 0:00:02    36% |███████████▊                    | 17.6MB 11.1MB/s eta 0:00:03    37% |████████████                    | 18.2MB 9.2MB/s eta 0:00:04    38% |████████████▌                   | 18.7MB 23.5MB/s eta 0:00:02    40% |████████████▉                   | 19.3MB 10.8MB/s eta 0:00:03    41% |█████████████▏                  | 19.8MB 7.5MB/s eta 0:00:04    42% |█████████████▌                  | 20.3MB 16.6MB/s eta 0:00:02    43% |█████████████▉                  | 20.8MB 20.1MB/s eta 0:00:02    44% |██████████████▏                 | 21.3MB 11.0MB/s eta 0:00:03    45% |██████████████▌                 | 21.8MB 11.6MB/s eta 0:00:03    46% |██████████████▉                 | 22.3MB 9.6MB/s eta 0:00:03    47% |███████████████▎                | 22.9MB 11.6MB/s eta 0:00:03    49% |████████████████                | 24.0MB 21.9MB/s eta 0:00:02    54% |█████████████████▍              | 26.2MB 13.6MB/s eta 0:00:02    56% |██████████████████▏             | 27.3MB 11.6MB/s eta 0:00:02    57% |██████████████████▌             | 27.8MB 11.6MB/s eta 0:00:02    60% |███████████████████▏            | 28.8MB 10.8MB/s eta 0:00:02    61% |███████████████████▌            | 29.4MB 11.6MB/s eta 0:00:02    62% |███████████████████▉            | 29.8MB 20.6MB/s eta 0:00:01    62% |████████████████████▏           | 30.3MB 10.8MB/s eta 0:00:02    63% |████████████████████▌           | 30.8MB 11.8MB/s eta 0:00:02    66% |█████████████████████▏          | 31.7MB 11.3MB/s eta 0:00:02    70% |██████████████████████▍         | 33.7MB 9.0MB/s eta 0:00:02    71% |██████████████████████▊         | 34.2MB 10.5MB/s eta 0:00:02    73% |███████████████████████▍        | 35.1MB 9.3MB/s eta 0:00:02    75% |████████████████████████        | 36.1MB 9.9MB/s eta 0:00:02    76% |████████████████████████▍       | 36.6MB 10.2MB/s eta 0:00:02    78% |█████████████████████████▎      | 38.0MB 9.5MB/s eta 0:00:02    79% |█████████████████████████▋      | 38.4MB 9.6MB/s eta 0:00:02    80% |█████████████████████████▉      | 38.9MB 9.8MB/s eta 0:00:01    81% |██████████████████████████▏     | 39.3MB 9.9MB/s eta 0:00:01    82% |██████████████████████████▌     | 39.8MB 9.5MB/s eta 0:00:01    83% |██████████████████████████▉     | 40.2MB 10.1MB/s eta 0:00:01    84% |███████████████████████████     | 40.7MB 9.0MB/s eta 0:00:01    86% |███████████████████████████▋    | 41.5MB 9.1MB/s eta 0:00:01    87% |███████████████████████████▉    | 41.9MB 9.2MB/s eta 0:00:01    88% |████████████████████████████▏   | 42.3MB 9.5MB/s eta 0:00:01    88% |████████████████████████████▌   | 42.8MB 9.4MB/s eta 0:00:01    92% |█████████████████████████████▋  | 44.5MB 9.1MB/s eta 0:00:01    93% |█████████████████████████████▉  | 44.9MB 8.4MB/s eta 0:00:01    94% |██████████████████████████████▏ | 45.3MB 9.1MB/s eta 0:00:01    96% |██████████████████████████████▊ | 46.2MB 9.6MB/s eta 0:00:01    98% |███████████████████████████████▋| 47.5MB 10.2MB/s eta 0:00:01    99% |████████████████████████████████| 48.0MB 9.9MB/s eta 0:00:01\n",
      "\u001b[?25hRequirement already satisfied: Pillow>=4.2.1 in /opt/conda/lib/python3.6/site-packages (from unityagents==0.4.0) (5.2.0)\n",
      "Requirement already satisfied: matplotlib in /opt/conda/lib/python3.6/site-packages (from unityagents==0.4.0) (2.1.0)\n",
      "Requirement already satisfied: numpy>=1.11.0 in /opt/conda/lib/python3.6/site-packages (from unityagents==0.4.0) (1.12.1)\n",
      "Collecting jupyter (from unityagents==0.4.0)\n",
      "  Downloading https://files.pythonhosted.org/packages/83/df/0f5dd132200728a86190397e1ea87cd76244e42d39ec5e88efd25b2abd7e/jupyter-1.0.0-py2.py3-none-any.whl\n",
      "Requirement already satisfied: pytest>=3.2.2 in /opt/conda/lib/python3.6/site-packages (from unityagents==0.4.0) (4.5.0)\n",
      "Collecting docopt (from unityagents==0.4.0)\n",
      "  Downloading https://files.pythonhosted.org/packages/a2/55/8f8cab2afd404cf578136ef2cc5dfb50baa1761b68c9da1fb1e4eed343c9/docopt-0.6.2.tar.gz\n",
      "Requirement already satisfied: pyyaml in /opt/conda/lib/python3.6/site-packages (from unityagents==0.4.0) (3.12)\n",
      "Collecting protobuf==3.5.2 (from unityagents==0.4.0)\n",
      "\u001b[?25l  Downloading https://files.pythonhosted.org/packages/9b/0d/6e9cf54be86c742a375a0ca0addadb582c890939b1b6d3339570e51091bd/protobuf-3.5.2-cp36-cp36m-manylinux1_x86_64.whl (6.4MB)\n",
      "\u001b[K    100% |████████████████████████████████| 6.4MB 4.4MB/s eta 0:00:01    21% |██████▉                         | 1.4MB 9.3MB/s eta 0:00:01    28% |█████████                       | 1.8MB 12.1MB/s eta 0:00:01    35% |███████████▎                    | 2.3MB 8.3MB/s eta 0:00:01    42% |█████████████▌                  | 2.7MB 9.7MB/s eta 0:00:01    81% |██████████████████████████▏     | 5.3MB 18.0MB/s eta 0:00:01\n",
      "\u001b[?25hCollecting grpcio==1.11.0 (from unityagents==0.4.0)\n",
      "\u001b[?25l  Downloading https://files.pythonhosted.org/packages/c8/b8/00e703183b7ae5e02f161dafacdfa8edbd7234cb7434aef00f126a3a511e/grpcio-1.11.0-cp36-cp36m-manylinux1_x86_64.whl (8.8MB)\n",
      "\u001b[K    100% |████████████████████████████████| 8.8MB 1.2MB/s eta 0:00:01   1% |▋                               | 174kB 15.7MB/s eta 0:00:01    10% |███▍                            | 931kB 9.1MB/s eta 0:00:01    20% |██████▌                         | 1.8MB 8.6MB/s eta 0:00:01    25% |████████▏                       | 2.2MB 10.3MB/s eta 0:00:01    30% |█████████▊                      | 2.7MB 19.3MB/s eta 0:00:01    38% |████████████▎                   | 3.4MB 5.5MB/s eta 0:00:01    53% |█████████████████▏              | 4.7MB 18.9MB/s eta 0:00:01    88% |████████████████████████████▏   | 7.7MB 21.4MB/s eta 0:00:01\n",
      "\u001b[?25hRequirement already satisfied: torch==0.4.0 in /opt/conda/lib/python3.6/site-packages (from unityagents==0.4.0) (0.4.0)\n",
      "Requirement already satisfied: pandas in /opt/conda/lib/python3.6/site-packages (from unityagents==0.4.0) (0.23.3)\n",
      "Requirement already satisfied: scipy in /opt/conda/lib/python3.6/site-packages (from unityagents==0.4.0) (1.2.1)\n",
      "Requirement already satisfied: ipykernel in /opt/conda/lib/python3.6/site-packages (from unityagents==0.4.0) (4.9.0)\n",
      "Collecting tensorboard<1.8.0,>=1.7.0 (from tensorflow==1.7.1->unityagents==0.4.0)\n",
      "\u001b[?25l  Downloading https://files.pythonhosted.org/packages/0b/ec/65d4e8410038ca2a78c09034094403d231228d0ddcae7d470b223456e55d/tensorboard-1.7.0-py3-none-any.whl (3.1MB)\n",
      "\u001b[K    100% |████████████████████████████████| 3.1MB 1.6MB/s ta 0:00:011  1% |▍                               | 40kB 8.2MB/s eta 0:00:01    15% |█████                           | 491kB 12.6MB/s eta 0:00:01    64% |████████████████████▋           | 2.0MB 3.9MB/s eta 0:00:01    71% |███████████████████████         | 2.2MB 3.8MB/s eta 0:00:01    88% |████████████████████████████▏   | 2.7MB 4.1MB/s eta 0:00:01    99% |███████████████████████████████▉| 3.1MB 615kB/s eta 0:00:01\n",
      "\u001b[?25hRequirement already satisfied: wheel>=0.26 in /opt/conda/lib/python3.6/site-packages (from tensorflow==1.7.1->unityagents==0.4.0) (0.30.0)\n"
     ]
    },
    {
     "name": "stdout",
     "output_type": "stream",
     "text": [
      "Collecting astor>=0.6.0 (from tensorflow==1.7.1->unityagents==0.4.0)\n",
      "  Downloading https://files.pythonhosted.org/packages/c3/88/97eef84f48fa04fbd6750e62dcceafba6c63c81b7ac1420856c8dcc0a3f9/astor-0.8.1-py2.py3-none-any.whl\n",
      "Collecting termcolor>=1.1.0 (from tensorflow==1.7.1->unityagents==0.4.0)\n",
      "  Downloading https://files.pythonhosted.org/packages/8a/48/a76be51647d0eb9f10e2a4511bf3ffb8cc1e6b14e9e4fab46173aa79f981/termcolor-1.1.0.tar.gz\n",
      "Collecting absl-py>=0.1.6 (from tensorflow==1.7.1->unityagents==0.4.0)\n",
      "\u001b[?25l  Downloading https://files.pythonhosted.org/packages/2c/03/e3e19d3faf430ede32e41221b294e37952e06acc96781c417ac25d4a0324/absl_py-1.0.0-py3-none-any.whl (126kB)\n",
      "\u001b[K    100% |████████████████████████████████| 133kB 4.7MB/s ta 0:00:01\n",
      "\u001b[?25hCollecting gast>=0.2.0 (from tensorflow==1.7.1->unityagents==0.4.0)\n",
      "  Downloading https://files.pythonhosted.org/packages/5f/1c/b59500a88c5c3d9d601c5ca62b9df5e0964764472faed82a182958a922c5/gast-0.5.3-py3-none-any.whl\n",
      "Requirement already satisfied: six>=1.10.0 in /opt/conda/lib/python3.6/site-packages (from tensorflow==1.7.1->unityagents==0.4.0) (1.11.0)\n",
      "Requirement already satisfied: python-dateutil>=2.0 in /opt/conda/lib/python3.6/site-packages (from matplotlib->unityagents==0.4.0) (2.6.1)\n",
      "Requirement already satisfied: pytz in /opt/conda/lib/python3.6/site-packages (from matplotlib->unityagents==0.4.0) (2017.3)\n",
      "Requirement already satisfied: cycler>=0.10 in /opt/conda/lib/python3.6/site-packages/cycler-0.10.0-py3.6.egg (from matplotlib->unityagents==0.4.0) (0.10.0)\n",
      "Requirement already satisfied: pyparsing!=2.0.4,!=2.1.2,!=2.1.6,>=2.0.1 in /opt/conda/lib/python3.6/site-packages (from matplotlib->unityagents==0.4.0) (2.2.0)\n",
      "Requirement already satisfied: nbconvert in /opt/conda/lib/python3.6/site-packages (from jupyter->unityagents==0.4.0) (5.4.0)\n",
      "Requirement already satisfied: notebook in /opt/conda/lib/python3.6/site-packages (from jupyter->unityagents==0.4.0) (5.7.0)\n",
      "Collecting jupyter-console (from jupyter->unityagents==0.4.0)\n",
      "  Downloading https://files.pythonhosted.org/packages/59/cd/aa2670ffc99eb3e5bbe2294c71e4bf46a9804af4f378d09d7a8950996c9b/jupyter_console-6.4.0-py3-none-any.whl\n",
      "Collecting qtconsole (from jupyter->unityagents==0.4.0)\n",
      "\u001b[?25l  Downloading https://files.pythonhosted.org/packages/67/17/d12ae86393682eaa65741808aa5207dfe85b8504874d09f1bbd1feebdc2a/qtconsole-5.2.2-py3-none-any.whl (120kB)\n",
      "\u001b[K    100% |████████████████████████████████| 122kB 4.4MB/s ta 0:00:01\n",
      "\u001b[?25hRequirement already satisfied: ipywidgets in /opt/conda/lib/python3.6/site-packages (from jupyter->unityagents==0.4.0) (7.0.5)\n",
      "Requirement already satisfied: more-itertools>=4.0.0; python_version > \"2.7\" in /opt/conda/lib/python3.6/site-packages (from pytest>=3.2.2->unityagents==0.4.0) (7.0.0)\n",
      "Requirement already satisfied: wcwidth in /opt/conda/lib/python3.6/site-packages (from pytest>=3.2.2->unityagents==0.4.0) (0.1.7)\n",
      "Requirement already satisfied: setuptools in /opt/conda/lib/python3.6/site-packages (from pytest>=3.2.2->unityagents==0.4.0) (38.4.0)\n",
      "Requirement already satisfied: attrs>=17.4.0 in /opt/conda/lib/python3.6/site-packages (from pytest>=3.2.2->unityagents==0.4.0) (19.1.0)\n",
      "Requirement already satisfied: atomicwrites>=1.0 in /opt/conda/lib/python3.6/site-packages (from pytest>=3.2.2->unityagents==0.4.0) (1.3.0)\n",
      "Requirement already satisfied: pluggy!=0.10,<1.0,>=0.9 in /opt/conda/lib/python3.6/site-packages (from pytest>=3.2.2->unityagents==0.4.0) (0.11.0)\n",
      "Requirement already satisfied: py>=1.5.0 in /opt/conda/lib/python3.6/site-packages (from pytest>=3.2.2->unityagents==0.4.0) (1.8.0)\n",
      "Requirement already satisfied: ipython>=4.0.0 in /opt/conda/lib/python3.6/site-packages (from ipykernel->unityagents==0.4.0) (6.5.0)\n",
      "Requirement already satisfied: traitlets>=4.1.0 in /opt/conda/lib/python3.6/site-packages (from ipykernel->unityagents==0.4.0) (4.3.2)\n",
      "Requirement already satisfied: jupyter_client in /opt/conda/lib/python3.6/site-packages (from ipykernel->unityagents==0.4.0) (5.2.4)\n",
      "Requirement already satisfied: tornado>=4.0 in /opt/conda/lib/python3.6/site-packages (from ipykernel->unityagents==0.4.0) (4.5.3)\n",
      "Requirement already satisfied: werkzeug>=0.11.10 in /opt/conda/lib/python3.6/site-packages (from tensorboard<1.8.0,>=1.7.0->tensorflow==1.7.1->unityagents==0.4.0) (0.14.1)\n",
      "Requirement already satisfied: html5lib==0.9999999 in /opt/conda/lib/python3.6/site-packages (from tensorboard<1.8.0,>=1.7.0->tensorflow==1.7.1->unityagents==0.4.0) (0.9999999)\n",
      "Requirement already satisfied: bleach==1.5.0 in /opt/conda/lib/python3.6/site-packages (from tensorboard<1.8.0,>=1.7.0->tensorflow==1.7.1->unityagents==0.4.0) (1.5.0)\n",
      "Requirement already satisfied: markdown>=2.6.8 in /opt/conda/lib/python3.6/site-packages (from tensorboard<1.8.0,>=1.7.0->tensorflow==1.7.1->unityagents==0.4.0) (2.6.9)\n",
      "Requirement already satisfied: mistune>=0.8.1 in /opt/conda/lib/python3.6/site-packages (from nbconvert->jupyter->unityagents==0.4.0) (0.8.3)\n",
      "Requirement already satisfied: jinja2 in /opt/conda/lib/python3.6/site-packages (from nbconvert->jupyter->unityagents==0.4.0) (2.10)\n",
      "Requirement already satisfied: pygments in /opt/conda/lib/python3.6/site-packages (from nbconvert->jupyter->unityagents==0.4.0) (2.2.0)\n",
      "Requirement already satisfied: jupyter_core in /opt/conda/lib/python3.6/site-packages (from nbconvert->jupyter->unityagents==0.4.0) (4.4.0)\n",
      "Requirement already satisfied: nbformat>=4.4 in /opt/conda/lib/python3.6/site-packages (from nbconvert->jupyter->unityagents==0.4.0) (4.4.0)\n",
      "Requirement already satisfied: entrypoints>=0.2.2 in /opt/conda/lib/python3.6/site-packages (from nbconvert->jupyter->unityagents==0.4.0) (0.2.3)\n",
      "Requirement already satisfied: pandocfilters>=1.4.1 in /opt/conda/lib/python3.6/site-packages (from nbconvert->jupyter->unityagents==0.4.0) (1.4.1)\n",
      "Requirement already satisfied: testpath in /opt/conda/lib/python3.6/site-packages (from nbconvert->jupyter->unityagents==0.4.0) (0.3.1)\n",
      "Requirement already satisfied: defusedxml in /opt/conda/lib/python3.6/site-packages (from nbconvert->jupyter->unityagents==0.4.0) (0.5.0)\n",
      "Requirement already satisfied: pyzmq>=17 in /opt/conda/lib/python3.6/site-packages (from notebook->jupyter->unityagents==0.4.0) (17.1.2)\n",
      "Requirement already satisfied: ipython_genutils in /opt/conda/lib/python3.6/site-packages (from notebook->jupyter->unityagents==0.4.0) (0.2.0)\n",
      "Requirement already satisfied: Send2Trash in /opt/conda/lib/python3.6/site-packages (from notebook->jupyter->unityagents==0.4.0) (1.5.0)\n",
      "Requirement already satisfied: terminado>=0.8.1 in /opt/conda/lib/python3.6/site-packages (from notebook->jupyter->unityagents==0.4.0) (0.8.1)\n",
      "Requirement already satisfied: prometheus_client in /opt/conda/lib/python3.6/site-packages (from notebook->jupyter->unityagents==0.4.0) (0.3.1)\n",
      "Collecting prompt-toolkit!=3.0.0,!=3.0.1,<3.1.0,>=2.0.0 (from jupyter-console->jupyter->unityagents==0.4.0)\n",
      "\u001b[?25l  Downloading https://files.pythonhosted.org/packages/00/e4/beb2fad0bec554a011b321d0f6b99981f9171c0b05d03a6948e45ac8a5be/prompt_toolkit-3.0.28-py3-none-any.whl (380kB)\n",
      "\u001b[K    100% |████████████████████████████████| 389kB 6.3MB/s ta 0:00:011  18% |██████                          | 71kB 7.6MB/s eta 0:00:01\n",
      "\u001b[?25hCollecting qtpy (from qtconsole->jupyter->unityagents==0.4.0)\n",
      "\u001b[?25l  Downloading https://files.pythonhosted.org/packages/ae/b0/56e602873b05108f0ef9189a237fefcfbcd2fa3d84130b59e50c84fc90e8/QtPy-2.0.1-py3-none-any.whl (65kB)\n",
      "\u001b[K    100% |████████████████████████████████| 71kB 4.6MB/s ta 0:00:01\n",
      "\u001b[?25hCollecting widgetsnbextension~=3.0.0 (from ipywidgets->jupyter->unityagents==0.4.0)\n",
      "\u001b[?25l  Downloading https://files.pythonhosted.org/packages/8d/f2/c8bcccccbed39d51d3e237fb0c0f0c9bbc845d12afc41f5ca5f5728fffc7/widgetsnbextension-3.0.8-py2.py3-none-any.whl (2.2MB)\n",
      "\u001b[K    100% |████████████████████████████████| 2.2MB 4.9MB/s ta 0:00:011   14% |████▌                           | 307kB 8.8MB/s eta 0:00:01    50% |████████████████▏               | 1.1MB 8.1MB/s eta 0:00:01    66% |█████████████████████▏          | 1.4MB 8.5MB/s eta 0:00:01    88% |████████████████████████████▏   | 1.9MB 8.3MB/s eta 0:00:01\n",
      "\u001b[?25hRequirement already satisfied: jedi>=0.10 in /opt/conda/lib/python3.6/site-packages (from ipython>=4.0.0->ipykernel->unityagents==0.4.0) (0.10.2)\n",
      "Requirement already satisfied: simplegeneric>0.8 in /opt/conda/lib/python3.6/site-packages (from ipython>=4.0.0->ipykernel->unityagents==0.4.0) (0.8.1)\n",
      "Requirement already satisfied: backcall in /opt/conda/lib/python3.6/site-packages (from ipython>=4.0.0->ipykernel->unityagents==0.4.0) (0.1.0)\n",
      "Requirement already satisfied: pickleshare in /opt/conda/lib/python3.6/site-packages (from ipython>=4.0.0->ipykernel->unityagents==0.4.0) (0.7.4)\n",
      "Requirement already satisfied: decorator in /opt/conda/lib/python3.6/site-packages (from ipython>=4.0.0->ipykernel->unityagents==0.4.0) (4.0.11)\n"
     ]
    },
    {
     "name": "stdout",
     "output_type": "stream",
     "text": [
      "Requirement already satisfied: pexpect; sys_platform != \"win32\" in /opt/conda/lib/python3.6/site-packages (from ipython>=4.0.0->ipykernel->unityagents==0.4.0) (4.3.1)\n",
      "Requirement already satisfied: MarkupSafe>=0.23 in /opt/conda/lib/python3.6/site-packages (from jinja2->nbconvert->jupyter->unityagents==0.4.0) (1.0)\n",
      "Requirement already satisfied: jsonschema!=2.5.0,>=2.4 in /opt/conda/lib/python3.6/site-packages (from nbformat>=4.4->nbconvert->jupyter->unityagents==0.4.0) (2.6.0)\n",
      "Requirement already satisfied: packaging in /opt/conda/lib/python3.6/site-packages (from qtpy->qtconsole->jupyter->unityagents==0.4.0) (16.8)\n",
      "Requirement already satisfied: ptyprocess>=0.5 in /opt/conda/lib/python3.6/site-packages (from pexpect; sys_platform != \"win32\"->ipython>=4.0.0->ipykernel->unityagents==0.4.0) (0.5.2)\n",
      "Building wheels for collected packages: unityagents, docopt, termcolor\n",
      "  Running setup.py bdist_wheel for unityagents ... \u001b[?25ldone\n",
      "\u001b[?25h  Stored in directory: /tmp/pip-ephem-wheel-cache-r0qojmge/wheels/97/7a/24/09937717b9737178ae827bcef33ba219b540efd55be210010c\n",
      "  Running setup.py bdist_wheel for docopt ... \u001b[?25ldone\n",
      "\u001b[?25h  Stored in directory: /root/.cache/pip/wheels/9b/04/dd/7daf4150b6d9b12949298737de9431a324d4b797ffd63f526e\n",
      "  Running setup.py bdist_wheel for termcolor ... \u001b[?25ldone\n",
      "\u001b[?25h  Stored in directory: /root/.cache/pip/wheels/7c/06/54/bc84598ba1daf8f970247f550b175aaaee85f68b4b0c5ab2c6\n",
      "Successfully built unityagents docopt termcolor\n",
      "\u001b[31mtensorflow 1.7.1 has requirement numpy>=1.13.3, but you'll have numpy 1.12.1 which is incompatible.\u001b[0m\n",
      "\u001b[31mipython 6.5.0 has requirement prompt-toolkit<2.0.0,>=1.0.15, but you'll have prompt-toolkit 3.0.28 which is incompatible.\u001b[0m\n",
      "Installing collected packages: protobuf, tensorboard, astor, termcolor, grpcio, absl-py, gast, tensorflow, prompt-toolkit, jupyter-console, qtpy, qtconsole, jupyter, docopt, unityagents, widgetsnbextension\n",
      "  Found existing installation: protobuf 3.5.1\n",
      "    Uninstalling protobuf-3.5.1:\n",
      "      Successfully uninstalled protobuf-3.5.1\n",
      "  Found existing installation: tensorflow 1.3.0\n",
      "    Uninstalling tensorflow-1.3.0:\n",
      "      Successfully uninstalled tensorflow-1.3.0\n",
      "  Found existing installation: prompt-toolkit 1.0.15\n",
      "    Uninstalling prompt-toolkit-1.0.15:\n",
      "      Successfully uninstalled prompt-toolkit-1.0.15\n",
      "  Found existing installation: widgetsnbextension 3.1.0\n",
      "    Uninstalling widgetsnbextension-3.1.0:\n",
      "      Successfully uninstalled widgetsnbextension-3.1.0\n",
      "Successfully installed absl-py-1.0.0 astor-0.8.1 docopt-0.6.2 gast-0.5.3 grpcio-1.11.0 jupyter-1.0.0 jupyter-console-6.4.0 prompt-toolkit-3.0.28 protobuf-3.5.2 qtconsole-5.2.2 qtpy-2.0.1 tensorboard-1.7.0 tensorflow-1.7.1 termcolor-1.1.0 unityagents-0.4.0 widgetsnbextension-3.0.8\n"
     ]
    }
   ],
   "source": [
    "!cd ../../python; pip install ."
   ]
  },
  {
   "cell_type": "code",
   "execution_count": 2,
   "metadata": {},
   "outputs": [],
   "source": [
    "from workspace_utils import keep_awake\n",
    "from unityagents import UnityEnvironment\n",
    "import numpy as np"
   ]
  },
  {
   "cell_type": "markdown",
   "metadata": {},
   "source": [
    "Next, we will start the environment!  **_Before running the code cell below_**, change the `file_name` parameter to match the location of the Unity environment that you downloaded.\n",
    "\n",
    "- **Mac**: `\"path/to/Tennis.app\"`\n",
    "- **Windows** (x86): `\"path/to/Tennis_Windows_x86/Tennis.exe\"`\n",
    "- **Windows** (x86_64): `\"path/to/Tennis_Windows_x86_64/Tennis.exe\"`\n",
    "- **Linux** (x86): `\"path/to/Tennis_Linux/Tennis.x86\"`\n",
    "- **Linux** (x86_64): `\"path/to/Tennis_Linux/Tennis.x86_64\"`\n",
    "- **Linux** (x86, headless): `\"path/to/Tennis_Linux_NoVis/Tennis.x86\"`\n",
    "- **Linux** (x86_64, headless): `\"path/to/Tennis_Linux_NoVis/Tennis.x86_64\"`\n",
    "\n",
    "For instance, if you are using a Mac, then you downloaded `Tennis.app`.  If this file is in the same folder as the notebook, then the line below should appear as follows:\n",
    "```\n",
    "env = UnityEnvironment(file_name=\"Tennis.app\")\n",
    "```"
   ]
  },
  {
   "cell_type": "code",
   "execution_count": 3,
   "metadata": {},
   "outputs": [
    {
     "name": "stderr",
     "output_type": "stream",
     "text": [
      "INFO:unityagents:\n",
      "'Academy' started successfully!\n",
      "Unity Academy name: Academy\n",
      "        Number of Brains: 1\n",
      "        Number of External Brains : 1\n",
      "        Lesson number : 0\n",
      "        Reset Parameters :\n",
      "\t\t\n",
      "Unity brain name: TennisBrain\n",
      "        Number of Visual Observations (per agent): 0\n",
      "        Vector Observation space type: continuous\n",
      "        Vector Observation space size (per agent): 8\n",
      "        Number of stacked Vector Observation: 3\n",
      "        Vector Action space type: continuous\n",
      "        Vector Action space size (per agent): 2\n",
      "        Vector Action descriptions: , \n"
     ]
    }
   ],
   "source": [
    "env = UnityEnvironment(file_name=\"Tennis_Linux_NoVis/Tennis.x86_64\")"
   ]
  },
  {
   "cell_type": "markdown",
   "metadata": {},
   "source": [
    "Environments contain **_brains_** which are responsible for deciding the actions of their associated agents. Here we check for the first brain available, and set it as the default brain we will be controlling from Python."
   ]
  },
  {
   "cell_type": "code",
   "execution_count": 4,
   "metadata": {},
   "outputs": [],
   "source": [
    "# get the default brain\n",
    "brain_name = env.brain_names[0]\n",
    "brain = env.brains[brain_name]"
   ]
  },
  {
   "cell_type": "markdown",
   "metadata": {},
   "source": [
    "## 2. Examine the State and Action Spaces\n",
    "\n",
    "In this environment, two agents control rackets to bounce a ball over a net. If an agent hits the ball over the net, it receives a reward of +0.1.  If an agent lets a ball hit the ground or hits the ball out of bounds, it receives a reward of -0.01.  Thus, the goal of each agent is to keep the ball in play.\n",
    "\n",
    "The observation space consists of 8 variables corresponding to the position and velocity of the ball and racket. Two continuous actions are available, corresponding to movement toward (or away from) the net, and jumping. \n",
    "\n",
    "Run the code cell below to print some information about the environment."
   ]
  },
  {
   "cell_type": "code",
   "execution_count": 5,
   "metadata": {},
   "outputs": [
    {
     "name": "stdout",
     "output_type": "stream",
     "text": [
      "Number of agents: 2\n",
      "Size of each action: 2\n",
      "There are 2 agents. Each observes a state with length: 24\n",
      "The state for the first agent looks like: [ 0.          0.          0.          0.          0.          0.          0.\n",
      "  0.          0.          0.          0.          0.          0.          0.\n",
      "  0.          0.         -6.65278625 -1.5        -0.          0.\n",
      "  6.83172083  6.         -0.          0.        ]\n"
     ]
    }
   ],
   "source": [
    "# reset the environment\n",
    "env_info = env.reset(train_mode=True)[brain_name]\n",
    "\n",
    "# number of agents \n",
    "num_agents = len(env_info.agents)\n",
    "print('Number of agents:', num_agents)\n",
    "\n",
    "# size of each action\n",
    "action_size = brain.vector_action_space_size\n",
    "print('Size of each action:', action_size)\n",
    "\n",
    "# examine the state space \n",
    "states = env_info.vector_observations\n",
    "state_size = states.shape[1]\n",
    "print('There are {} agents. Each observes a state with length: {}'.format(states.shape[0], state_size))\n",
    "print('The state for the first agent looks like:', states[0])"
   ]
  },
  {
   "cell_type": "markdown",
   "metadata": {},
   "source": [
    "## 3. Take Random Actions in the Environment\n",
    "\n",
    "In the next code cell, you will learn how to use the Python API to control the agents and receive feedback from the environment.\n",
    "\n",
    "Once this cell is executed, you will watch the agents' performance, if they select actions at random with each time step.  A window should pop up that allows you to observe the agents.\n",
    "\n",
    "Of course, as part of the project, you'll have to change the code so that the agents are able to use their experiences to gradually choose better actions when interacting with the environment!"
   ]
  },
  {
   "cell_type": "code",
   "execution_count": 18,
   "metadata": {
    "scrolled": true
   },
   "outputs": [
    {
     "name": "stdout",
     "output_type": "stream",
     "text": [
      "Score (max over agents) from episode 1: 0.0\n",
      "Score (max over agents) from episode 2: 0.0\n",
      "Score (max over agents) from episode 3: 0.0\n",
      "Score (max over agents) from episode 4: 0.0\n"
     ]
    },
    {
     "ename": "KeyboardInterrupt",
     "evalue": "",
     "output_type": "error",
     "traceback": [
      "\u001b[0;31m---------------------------------------------------------------------------\u001b[0m",
      "\u001b[0;31mKeyboardInterrupt\u001b[0m                         Traceback (most recent call last)",
      "\u001b[0;32m<ipython-input-18-b623e7cf4504>\u001b[0m in \u001b[0;36m<module>\u001b[0;34m()\u001b[0m\n\u001b[1;32m      6\u001b[0m         \u001b[0mactions\u001b[0m \u001b[0;34m=\u001b[0m \u001b[0mnp\u001b[0m\u001b[0;34m.\u001b[0m\u001b[0mrandom\u001b[0m\u001b[0;34m.\u001b[0m\u001b[0mrandn\u001b[0m\u001b[0;34m(\u001b[0m\u001b[0mnum_agents\u001b[0m\u001b[0;34m,\u001b[0m \u001b[0maction_size\u001b[0m\u001b[0;34m)\u001b[0m \u001b[0;31m# select an action (for each agent)\u001b[0m\u001b[0;34m\u001b[0m\u001b[0m\n\u001b[1;32m      7\u001b[0m         \u001b[0mactions\u001b[0m \u001b[0;34m=\u001b[0m \u001b[0mnp\u001b[0m\u001b[0;34m.\u001b[0m\u001b[0mclip\u001b[0m\u001b[0;34m(\u001b[0m\u001b[0mactions\u001b[0m\u001b[0;34m,\u001b[0m \u001b[0;34m-\u001b[0m\u001b[0;36m1\u001b[0m\u001b[0;34m,\u001b[0m \u001b[0;36m1\u001b[0m\u001b[0;34m)\u001b[0m                  \u001b[0;31m# all actions between -1 and 1\u001b[0m\u001b[0;34m\u001b[0m\u001b[0m\n\u001b[0;32m----> 8\u001b[0;31m         \u001b[0menv_info\u001b[0m \u001b[0;34m=\u001b[0m \u001b[0menv\u001b[0m\u001b[0;34m.\u001b[0m\u001b[0mstep\u001b[0m\u001b[0;34m(\u001b[0m\u001b[0mactions\u001b[0m\u001b[0;34m)\u001b[0m\u001b[0;34m[\u001b[0m\u001b[0mbrain_name\u001b[0m\u001b[0;34m]\u001b[0m           \u001b[0;31m# send all actions to tne environment\u001b[0m\u001b[0;34m\u001b[0m\u001b[0m\n\u001b[0m\u001b[1;32m      9\u001b[0m         \u001b[0mnext_states\u001b[0m \u001b[0;34m=\u001b[0m \u001b[0menv_info\u001b[0m\u001b[0;34m.\u001b[0m\u001b[0mvector_observations\u001b[0m         \u001b[0;31m# get next state (for each agent)\u001b[0m\u001b[0;34m\u001b[0m\u001b[0m\n\u001b[1;32m     10\u001b[0m         \u001b[0mrewards\u001b[0m \u001b[0;34m=\u001b[0m \u001b[0menv_info\u001b[0m\u001b[0;34m.\u001b[0m\u001b[0mrewards\u001b[0m                         \u001b[0;31m# get reward (for each agent)\u001b[0m\u001b[0;34m\u001b[0m\u001b[0m\n",
      "\u001b[0;32m/opt/conda/lib/python3.6/site-packages/unityagents/environment.py\u001b[0m in \u001b[0;36mstep\u001b[0;34m(self, vector_action, memory, text_action)\u001b[0m\n\u001b[1;32m    367\u001b[0m \u001b[0;34m\u001b[0m\u001b[0m\n\u001b[1;32m    368\u001b[0m             outputs = self.communicator.exchange(\n\u001b[0;32m--> 369\u001b[0;31m                 \u001b[0mself\u001b[0m\u001b[0;34m.\u001b[0m\u001b[0m_generate_step_input\u001b[0m\u001b[0;34m(\u001b[0m\u001b[0mvector_action\u001b[0m\u001b[0;34m,\u001b[0m \u001b[0mmemory\u001b[0m\u001b[0;34m,\u001b[0m \u001b[0mtext_action\u001b[0m\u001b[0;34m)\u001b[0m\u001b[0;34m\u001b[0m\u001b[0m\n\u001b[0m\u001b[1;32m    370\u001b[0m             )\n\u001b[1;32m    371\u001b[0m             \u001b[0;32mif\u001b[0m \u001b[0moutputs\u001b[0m \u001b[0;32mis\u001b[0m \u001b[0;32mNone\u001b[0m\u001b[0;34m:\u001b[0m\u001b[0;34m\u001b[0m\u001b[0m\n",
      "\u001b[0;32m/opt/conda/lib/python3.6/site-packages/unityagents/rpc_communicator.py\u001b[0m in \u001b[0;36mexchange\u001b[0;34m(self, inputs)\u001b[0m\n\u001b[1;32m     76\u001b[0m         \u001b[0mmessage\u001b[0m\u001b[0;34m.\u001b[0m\u001b[0munity_input\u001b[0m\u001b[0;34m.\u001b[0m\u001b[0mCopyFrom\u001b[0m\u001b[0;34m(\u001b[0m\u001b[0minputs\u001b[0m\u001b[0;34m)\u001b[0m\u001b[0;34m\u001b[0m\u001b[0m\n\u001b[1;32m     77\u001b[0m         \u001b[0mself\u001b[0m\u001b[0;34m.\u001b[0m\u001b[0munity_to_external\u001b[0m\u001b[0;34m.\u001b[0m\u001b[0mparent_conn\u001b[0m\u001b[0;34m.\u001b[0m\u001b[0msend\u001b[0m\u001b[0;34m(\u001b[0m\u001b[0mmessage\u001b[0m\u001b[0;34m)\u001b[0m\u001b[0;34m\u001b[0m\u001b[0m\n\u001b[0;32m---> 78\u001b[0;31m         \u001b[0moutput\u001b[0m \u001b[0;34m=\u001b[0m \u001b[0mself\u001b[0m\u001b[0;34m.\u001b[0m\u001b[0munity_to_external\u001b[0m\u001b[0;34m.\u001b[0m\u001b[0mparent_conn\u001b[0m\u001b[0;34m.\u001b[0m\u001b[0mrecv\u001b[0m\u001b[0;34m(\u001b[0m\u001b[0;34m)\u001b[0m\u001b[0;34m\u001b[0m\u001b[0m\n\u001b[0m\u001b[1;32m     79\u001b[0m         \u001b[0;32mif\u001b[0m \u001b[0moutput\u001b[0m\u001b[0;34m.\u001b[0m\u001b[0mheader\u001b[0m\u001b[0;34m.\u001b[0m\u001b[0mstatus\u001b[0m \u001b[0;34m!=\u001b[0m \u001b[0;36m200\u001b[0m\u001b[0;34m:\u001b[0m\u001b[0;34m\u001b[0m\u001b[0m\n\u001b[1;32m     80\u001b[0m             \u001b[0;32mreturn\u001b[0m \u001b[0;32mNone\u001b[0m\u001b[0;34m\u001b[0m\u001b[0m\n",
      "\u001b[0;32m/opt/conda/lib/python3.6/multiprocessing/connection.py\u001b[0m in \u001b[0;36mrecv\u001b[0;34m(self)\u001b[0m\n\u001b[1;32m    248\u001b[0m         \u001b[0mself\u001b[0m\u001b[0;34m.\u001b[0m\u001b[0m_check_closed\u001b[0m\u001b[0;34m(\u001b[0m\u001b[0;34m)\u001b[0m\u001b[0;34m\u001b[0m\u001b[0m\n\u001b[1;32m    249\u001b[0m         \u001b[0mself\u001b[0m\u001b[0;34m.\u001b[0m\u001b[0m_check_readable\u001b[0m\u001b[0;34m(\u001b[0m\u001b[0;34m)\u001b[0m\u001b[0;34m\u001b[0m\u001b[0m\n\u001b[0;32m--> 250\u001b[0;31m         \u001b[0mbuf\u001b[0m \u001b[0;34m=\u001b[0m \u001b[0mself\u001b[0m\u001b[0;34m.\u001b[0m\u001b[0m_recv_bytes\u001b[0m\u001b[0;34m(\u001b[0m\u001b[0;34m)\u001b[0m\u001b[0;34m\u001b[0m\u001b[0m\n\u001b[0m\u001b[1;32m    251\u001b[0m         \u001b[0;32mreturn\u001b[0m \u001b[0m_ForkingPickler\u001b[0m\u001b[0;34m.\u001b[0m\u001b[0mloads\u001b[0m\u001b[0;34m(\u001b[0m\u001b[0mbuf\u001b[0m\u001b[0;34m.\u001b[0m\u001b[0mgetbuffer\u001b[0m\u001b[0;34m(\u001b[0m\u001b[0;34m)\u001b[0m\u001b[0;34m)\u001b[0m\u001b[0;34m\u001b[0m\u001b[0m\n\u001b[1;32m    252\u001b[0m \u001b[0;34m\u001b[0m\u001b[0m\n",
      "\u001b[0;32m/opt/conda/lib/python3.6/multiprocessing/connection.py\u001b[0m in \u001b[0;36m_recv_bytes\u001b[0;34m(self, maxsize)\u001b[0m\n\u001b[1;32m    405\u001b[0m \u001b[0;34m\u001b[0m\u001b[0m\n\u001b[1;32m    406\u001b[0m     \u001b[0;32mdef\u001b[0m \u001b[0m_recv_bytes\u001b[0m\u001b[0;34m(\u001b[0m\u001b[0mself\u001b[0m\u001b[0;34m,\u001b[0m \u001b[0mmaxsize\u001b[0m\u001b[0;34m=\u001b[0m\u001b[0;32mNone\u001b[0m\u001b[0;34m)\u001b[0m\u001b[0;34m:\u001b[0m\u001b[0;34m\u001b[0m\u001b[0m\n\u001b[0;32m--> 407\u001b[0;31m         \u001b[0mbuf\u001b[0m \u001b[0;34m=\u001b[0m \u001b[0mself\u001b[0m\u001b[0;34m.\u001b[0m\u001b[0m_recv\u001b[0m\u001b[0;34m(\u001b[0m\u001b[0;36m4\u001b[0m\u001b[0;34m)\u001b[0m\u001b[0;34m\u001b[0m\u001b[0m\n\u001b[0m\u001b[1;32m    408\u001b[0m         \u001b[0msize\u001b[0m\u001b[0;34m,\u001b[0m \u001b[0;34m=\u001b[0m \u001b[0mstruct\u001b[0m\u001b[0;34m.\u001b[0m\u001b[0munpack\u001b[0m\u001b[0;34m(\u001b[0m\u001b[0;34m\"!i\"\u001b[0m\u001b[0;34m,\u001b[0m \u001b[0mbuf\u001b[0m\u001b[0;34m.\u001b[0m\u001b[0mgetvalue\u001b[0m\u001b[0;34m(\u001b[0m\u001b[0;34m)\u001b[0m\u001b[0;34m)\u001b[0m\u001b[0;34m\u001b[0m\u001b[0m\n\u001b[1;32m    409\u001b[0m         \u001b[0;32mif\u001b[0m \u001b[0mmaxsize\u001b[0m \u001b[0;32mis\u001b[0m \u001b[0;32mnot\u001b[0m \u001b[0;32mNone\u001b[0m \u001b[0;32mand\u001b[0m \u001b[0msize\u001b[0m \u001b[0;34m>\u001b[0m \u001b[0mmaxsize\u001b[0m\u001b[0;34m:\u001b[0m\u001b[0;34m\u001b[0m\u001b[0m\n",
      "\u001b[0;32m/opt/conda/lib/python3.6/multiprocessing/connection.py\u001b[0m in \u001b[0;36m_recv\u001b[0;34m(self, size, read)\u001b[0m\n\u001b[1;32m    377\u001b[0m         \u001b[0mremaining\u001b[0m \u001b[0;34m=\u001b[0m \u001b[0msize\u001b[0m\u001b[0;34m\u001b[0m\u001b[0m\n\u001b[1;32m    378\u001b[0m         \u001b[0;32mwhile\u001b[0m \u001b[0mremaining\u001b[0m \u001b[0;34m>\u001b[0m \u001b[0;36m0\u001b[0m\u001b[0;34m:\u001b[0m\u001b[0;34m\u001b[0m\u001b[0m\n\u001b[0;32m--> 379\u001b[0;31m             \u001b[0mchunk\u001b[0m \u001b[0;34m=\u001b[0m \u001b[0mread\u001b[0m\u001b[0;34m(\u001b[0m\u001b[0mhandle\u001b[0m\u001b[0;34m,\u001b[0m \u001b[0mremaining\u001b[0m\u001b[0;34m)\u001b[0m\u001b[0;34m\u001b[0m\u001b[0m\n\u001b[0m\u001b[1;32m    380\u001b[0m             \u001b[0mn\u001b[0m \u001b[0;34m=\u001b[0m \u001b[0mlen\u001b[0m\u001b[0;34m(\u001b[0m\u001b[0mchunk\u001b[0m\u001b[0;34m)\u001b[0m\u001b[0;34m\u001b[0m\u001b[0m\n\u001b[1;32m    381\u001b[0m             \u001b[0;32mif\u001b[0m \u001b[0mn\u001b[0m \u001b[0;34m==\u001b[0m \u001b[0;36m0\u001b[0m\u001b[0;34m:\u001b[0m\u001b[0;34m\u001b[0m\u001b[0m\n",
      "\u001b[0;31mKeyboardInterrupt\u001b[0m: "
     ]
    }
   ],
   "source": [
    "for i in range(1, 6):                                      # play game for 5 episodes\n",
    "    env_info = env.reset(train_mode=False)[brain_name]     # reset the environment    \n",
    "    states = env_info.vector_observations                  # get the current state (for each agent)\n",
    "    scores = np.zeros(num_agents)                          # initialize the score (for each agent)\n",
    "    while True:\n",
    "        actions = np.random.randn(num_agents, action_size) # select an action (for each agent)\n",
    "        actions = np.clip(actions, -1, 1)                  # all actions between -1 and 1\n",
    "        env_info = env.step(actions)[brain_name]           # send all actions to tne environment\n",
    "        next_states = env_info.vector_observations         # get next state (for each agent)\n",
    "        rewards = env_info.rewards                         # get reward (for each agent)\n",
    "        dones = env_info.local_done                        # see if episode finished\n",
    "        scores += env_info.rewards                         # update the score (for each agent)\n",
    "        states = next_states                               # roll over states to next time step\n",
    "        if np.any(dones):                                  # exit loop if episode finished\n",
    "            break\n",
    "    print('Score (max over agents) from episode {}: {}'.format(i, np.max(scores)))"
   ]
  },
  {
   "cell_type": "markdown",
   "metadata": {},
   "source": [
    "When finished, you can close the environment."
   ]
  },
  {
   "cell_type": "code",
   "execution_count": 7,
   "metadata": {},
   "outputs": [],
   "source": [
    "env.close()"
   ]
  },
  {
   "cell_type": "markdown",
   "metadata": {},
   "source": [
    "## 4. It's Your Turn!"
   ]
  },
  {
   "cell_type": "code",
   "execution_count": 6,
   "metadata": {},
   "outputs": [],
   "source": [
    "import torch\n",
    "from collections import deque\n",
    "import matplotlib.pyplot as plt\n",
    "from importlib import reload\n",
    "#from workspace_utils import keep_awake\n",
    "\n",
    "#from maddpg import MAgent\n",
    "from importlib import reload\n",
    "import maddpg\n",
    "maddpg = reload(maddpg)\n",
    "MAgent = maddpg.MAgent"
   ]
  },
  {
   "cell_type": "code",
   "execution_count": 7,
   "metadata": {},
   "outputs": [],
   "source": [
    "def run_ddpg_multi(agent, n_episodes=5000, queue=100, print_every=50):        \n",
    "    \"\"\"Multi Deep Deterministic Policy Gradient learning for Tennis Unity Environment.\n",
    "    \n",
    "    Params Input\n",
    "    ==========\n",
    "        agent (MAgent): The agent class\n",
    "        n_episode (int): maximum number of episodes\n",
    "        queue (int): number of consecutive episodes to average up\n",
    "        print_every (int): frequency of printing information throughout iteration.\n",
    "        \n",
    "    Params Output\n",
    "    ==========\n",
    "        scores_all (list of floats): are the scores collected at the end of each episode\n",
    "        \n",
    "    \"\"\"\n",
    "    \n",
    "    ##Inizialization\n",
    "    scores_window = deque(maxlen=queue)     \n",
    "    scores_all = []        \n",
    "    moving_avgs = []\n",
    "    for i_episode in keep_awake(range(1, n_episodes+1)):\n",
    "        env_info = env.reset(train_mode=True)[brain_name]      \n",
    "        states = env_info.vector_observations\n",
    "        agent.reset()\n",
    "        scores = np.zeros(2)\n",
    "        \n",
    "        ## Training loop of each episode\n",
    "        while True:\n",
    "            actions = agent.act(states, add_noise=True)\n",
    "            env_info = env.step(actions)[brain_name]           \n",
    "            next_states = env_info.vector_observations         \n",
    "            rewards = env_info.rewards                         \n",
    "            dones = env_info.local_done\n",
    "            agent.step(states, actions, rewards, next_states, dones)\n",
    "            scores += rewards                                  \n",
    "            states = next_states                               \n",
    "            if np.any(dones):                                  \n",
    "                break\n",
    "\n",
    "        scores_window.append(np.max(scores)) # take the max of the two agents\n",
    "        scores_all.append(np.max(scores))\n",
    "        \n",
    "        moving_avg = np.mean(scores_window)  # calculate moving average\n",
    "        moving_avgs.append(moving_avg)       # save most recent moving average\n",
    "        \n",
    "        #print('Episode {} ## Reward 1 agent: {:.3f} ##  Reward 2 : {:.3f} ## Max: {:.3f} ## Average: {:.2f}'.format(\n",
    "        #        i_episode, scores[0], scores[1], np.max(scores), np.mean(scores_window)), end=\"\")\n",
    "        print('\\rEpisode {}\\tAverage Score: {:.2f}'.format(i_episode, np.mean(scores_window)), end=\"\")\n",
    "        \n",
    "        if i_episode % print_every == 0:\n",
    "            print('\\rEpisode {}\\tAverage Score: {:.2f}'.format(i_episode, np.mean(scores_window)))\n",
    "        \n",
    "        if np.mean(scores_window)>=0.5 and i_episode >= queue:\n",
    "            print('\\nEnvironment solved in {:d} episodes!\\tAverage Score: {:.3f}'.format(\n",
    "                i_episode, np.mean(scores_window)))\n",
    "            torch.save(agent.agents[0].actor_local.state_dict(), 'checkpoint_actor0.pth')\n",
    "            torch.save(agent.agents[0].critic_local.state_dict(), 'checkpoint_critic0.pth')\n",
    "            torch.save(agent.agents[1].actor_local.state_dict(), 'checkpoint_actor1.pth')\n",
    "            torch.save(agent.agents[1].critic_local.state_dict(), 'checkpoint_critic1.pth')\n",
    "            break\n",
    "\n",
    "    return scores_all, moving_avgs"
   ]
  },
  {
   "cell_type": "markdown",
   "metadata": {},
   "source": [
    "### Original\n",
    "\n",
    "- BUFFER_SIZE = int(1e5)  # replay buffer size\n",
    "- BATCH_SIZE = 128        # minibatch size\n",
    "- GAMMA = 0.99            # discount factor\n",
    "- TAU = 6e-2              # for soft update of target parameters\n",
    "- LR_ACTOR = 1e-4         # learning rate of the actor\n",
    "- LR_CRITIC = 1e-3        # learning rate of the critic\n",
    "- WEIGHT_DECAY = 0        # L2 weight decay\n",
    "- UPDATE_EVERY = 1        # Update every time step\n",
    "- NUM_UPDATE = 1          # Update once at each time step"
   ]
  },
  {
   "cell_type": "code",
   "execution_count": 8,
   "metadata": {
    "jupyter": {
     "outputs_hidden": true
    },
    "scrolled": true
   },
   "outputs": [
    {
     "name": "stdout",
     "output_type": "stream",
     "text": [
      "Episode 50\tAverage Score: 0.01\n",
      "Episode 100\tAverage Score: 0.01\n",
      "Episode 150\tAverage Score: 0.03\n",
      "Episode 200\tAverage Score: 0.07\n",
      "Episode 250\tAverage Score: 0.09\n",
      "Episode 300\tAverage Score: 0.10\n",
      "Episode 350\tAverage Score: 0.13\n",
      "Episode 400\tAverage Score: 0.17\n",
      "Episode 450\tAverage Score: 0.29\n",
      "Episode 500\tAverage Score: 0.43\n",
      "Episode 550\tAverage Score: 0.43\n",
      "Episode 600\tAverage Score: 0.44\n",
      "Episode 637\tAverage Score: 0.51\n",
      "Environment solved in 637 episodes!\tAverage Score: 0.512\n"
     ]
    }
   ],
   "source": [
    "agent = MAgent(state_size, action_size, 42, num_agents=num_agents)\n",
    "scores, avgs = run_ddpg_multi(agent, n_episodes=5000, queue=100)"
   ]
  },
  {
   "cell_type": "code",
   "execution_count": 9,
   "metadata": {},
   "outputs": [
    {
     "data": {
      "image/png": "[encoded data removed]",
      "text/plain": [
       "<matplotlib.figure.Figure at 0x7fa561f679e8>"
      ]
     },
     "metadata": {
      "needs_background": "light"
     },
     "output_type": "display_data"
    }
   ],
   "source": [
    "fig = plt.figure()\n",
    "ax = fig.add_subplot(111)\n",
    "plt.plot(np.arange(len(scores)), scores, label='DDPG')\n",
    "plt.plot(np.arange(len(scores)), avgs, c='r', label='average')\n",
    "plt.ylabel('Score')\n",
    "plt.xlabel('Episode #')\n",
    "plt.legend(loc='upper left');\n",
    "plt.show()"
   ]
  },
  {
   "cell_type": "markdown",
   "metadata": {},
   "source": [
    "### Iteration 2\n",
    "\n",
    "Here I increased the buffer size.\n",
    "\n",
    "- BUFFER_SIZE = int(1e6)  # replay buffer size"
   ]
  },
  {
   "cell_type": "code",
   "execution_count": 11,
   "metadata": {},
   "outputs": [],
   "source": [
    "maddpg.BUFFER_SIZE = int(1e6)"
   ]
  },
  {
   "cell_type": "code",
   "execution_count": 12,
   "metadata": {},
   "outputs": [
    {
     "name": "stdout",
     "output_type": "stream",
     "text": [
      "Episode 50\tAverage Score: 0.01\n",
      "Episode 100\tAverage Score: 0.01\n",
      "Episode 150\tAverage Score: 0.03\n",
      "Episode 200\tAverage Score: 0.06\n",
      "Episode 250\tAverage Score: 0.07\n",
      "Episode 300\tAverage Score: 0.08\n",
      "Episode 350\tAverage Score: 0.09\n",
      "Episode 400\tAverage Score: 0.11\n",
      "Episode 450\tAverage Score: 0.14\n",
      "Episode 500\tAverage Score: 0.18\n",
      "Episode 550\tAverage Score: 0.23\n",
      "Episode 600\tAverage Score: 0.29\n",
      "Episode 650\tAverage Score: 0.31\n",
      "Episode 700\tAverage Score: 0.35\n",
      "Episode 750\tAverage Score: 0.38\n",
      "Episode 800\tAverage Score: 0.47\n",
      "Episode 815\tAverage Score: 0.51\n",
      "Environment solved in 815 episodes!\tAverage Score: 0.509\n"
     ]
    }
   ],
   "source": [
    "agent = maddpg.MAgent(state_size, action_size, 42, num_agents=num_agents)\n",
    "scores, avgs = run_ddpg_multi(agent, n_episodes=5000, queue=100)"
   ]
  },
  {
   "cell_type": "code",
   "execution_count": 13,
   "metadata": {},
   "outputs": [
    {
     "data": {
      "image/png": "[encoded data removed]",
      "text/plain": [
       "<matplotlib.figure.Figure at 0x7f28d3ecd588>"
      ]
     },
     "metadata": {
      "needs_background": "light"
     },
     "output_type": "display_data"
    }
   ],
   "source": [
    "fig = plt.figure()\n",
    "ax = fig.add_subplot(111)\n",
    "plt.plot(np.arange(len(scores)), scores, label='DDPG')\n",
    "plt.plot(np.arange(len(scores)), avgs, c='r', label='average')\n",
    "plt.ylabel('Score')\n",
    "plt.xlabel('Episode #')\n",
    "plt.legend(loc='upper left')\n",
    "plt.show()"
   ]
  },
  {
   "cell_type": "markdown",
   "metadata": {},
   "source": [
    "### Iteration 3"
   ]
  },
  {
   "cell_type": "code",
   "execution_count": 12,
   "metadata": {},
   "outputs": [],
   "source": [
    "maddpg.UPDATE_EVERY = 4        # Update every time step\n",
    "maddpg.NUM_UPDATE = 2          # Update once at each time step"
   ]
  },
  {
   "cell_type": "code",
   "execution_count": 13,
   "metadata": {},
   "outputs": [
    {
     "name": "stdout",
     "output_type": "stream",
     "text": [
      "Episode 50\tAverage Score: 0.01\n",
      "Episode 100\tAverage Score: 0.00\n",
      "Episode 150\tAverage Score: 0.00\n",
      "Episode 200\tAverage Score: 0.00\n",
      "Episode 250\tAverage Score: 0.02\n",
      "Episode 300\tAverage Score: 0.03\n",
      "Episode 350\tAverage Score: 0.03\n",
      "Episode 400\tAverage Score: 0.06\n",
      "Episode 450\tAverage Score: 0.09\n",
      "Episode 500\tAverage Score: 0.09\n",
      "Episode 550\tAverage Score: 0.09\n",
      "Episode 600\tAverage Score: 0.09\n",
      "Episode 650\tAverage Score: 0.09\n",
      "Episode 700\tAverage Score: 0.09\n",
      "Episode 750\tAverage Score: 0.10\n",
      "Episode 800\tAverage Score: 0.10\n",
      "Episode 850\tAverage Score: 0.11\n",
      "Episode 900\tAverage Score: 0.11\n",
      "Episode 950\tAverage Score: 0.10\n",
      "Episode 1000\tAverage Score: 0.11\n",
      "Episode 1050\tAverage Score: 0.11\n",
      "Episode 1100\tAverage Score: 0.12\n",
      "Episode 1150\tAverage Score: 0.14\n",
      "Episode 1200\tAverage Score: 0.19\n",
      "Episode 1250\tAverage Score: 0.23\n",
      "Episode 1300\tAverage Score: 0.25\n",
      "Episode 1350\tAverage Score: 0.24\n",
      "Episode 1400\tAverage Score: 0.25\n",
      "Episode 1450\tAverage Score: 0.30\n",
      "Episode 1500\tAverage Score: 0.28\n",
      "Episode 1550\tAverage Score: 0.25\n",
      "Episode 1600\tAverage Score: 0.27\n",
      "Episode 1650\tAverage Score: 0.32\n",
      "Episode 1700\tAverage Score: 0.34\n",
      "Episode 1750\tAverage Score: 0.39\n",
      "Episode 1800\tAverage Score: 0.39\n",
      "Episode 1850\tAverage Score: 0.42\n",
      "Episode 1900\tAverage Score: 0.42\n",
      "Episode 1950\tAverage Score: 0.39\n",
      "Episode 2000\tAverage Score: 0.42\n",
      "Episode 2034\tAverage Score: 0.50\n",
      "Environment solved in 2034 episodes!\tAverage Score: 0.503\n"
     ]
    }
   ],
   "source": [
    "agent = maddpg.MAgent(state_size, action_size, 42, num_agents=num_agents)\n",
    "scores, avgs = run_ddpg_multi(agent, n_episodes=5000, queue=100)"
   ]
  },
  {
   "cell_type": "code",
   "execution_count": 14,
   "metadata": {},
   "outputs": [
    {
     "data": {
      "image/png": "[encoded data removed]",
      "text/plain": [
       "<matplotlib.figure.Figure at 0x7f2f19ae64e0>"
      ]
     },
     "metadata": {
      "needs_background": "light"
     },
     "output_type": "display_data"
    }
   ],
   "source": [
    "fig = plt.figure()\n",
    "ax = fig.add_subplot(111)\n",
    "plt.plot(np.arange(len(scores)), scores, label='DDPG')\n",
    "plt.plot(np.arange(len(scores)), avgs, c='r', label='average')\n",
    "plt.ylabel('Score')\n",
    "plt.xlabel('Episode #')\n",
    "plt.legend(loc='upper left')\n",
    "plt.show()"
   ]
  },
  {
   "cell_type": "markdown",
   "metadata": {},
   "source": [
    "### Iteration 4"
   ]
  },
  {
   "cell_type": "code",
   "execution_count": 10,
   "metadata": {},
   "outputs": [],
   "source": [
    "maddpg = reload(maddpg)\n",
    "MAgent = maddpg.MAgent\n",
    "\n",
    "maddpg.BATCH_SIZE = 256"
   ]
  },
  {
   "cell_type": "code",
   "execution_count": 11,
   "metadata": {},
   "outputs": [
    {
     "name": "stdout",
     "output_type": "stream",
     "text": [
      "Episode 50\tAverage Score: 0.01\n",
      "Episode 100\tAverage Score: 0.03\n",
      "Episode 150\tAverage Score: 0.06\n",
      "Episode 200\tAverage Score: 0.09\n",
      "Episode 250\tAverage Score: 0.11\n",
      "Episode 300\tAverage Score: 0.13\n",
      "Episode 350\tAverage Score: 0.15\n",
      "Episode 400\tAverage Score: 0.15\n",
      "Episode 450\tAverage Score: 0.15\n",
      "Episode 500\tAverage Score: 0.23\n",
      "Episode 550\tAverage Score: 0.27\n",
      "Episode 600\tAverage Score: 0.25\n",
      "Episode 650\tAverage Score: 0.32\n",
      "Episode 700\tAverage Score: 0.37\n",
      "Episode 750\tAverage Score: 0.37\n",
      "Episode 800\tAverage Score: 0.38\n",
      "Episode 850\tAverage Score: 0.41\n",
      "Episode 900\tAverage Score: 0.47\n",
      "Episode 950\tAverage Score: 0.44\n",
      "Episode 1000\tAverage Score: 0.39\n",
      "Episode 1050\tAverage Score: 0.42\n",
      "Episode 1100\tAverage Score: 0.46\n",
      "Episode 1110\tAverage Score: 0.50\n",
      "Environment solved in 1110 episodes!\tAverage Score: 0.500\n"
     ]
    }
   ],
   "source": [
    "agent = maddpg.MAgent(state_size, action_size, 42, num_agents=num_agents)\n",
    "scores, avgs = run_ddpg_multi(agent, n_episodes=5000, queue=100)"
   ]
  },
  {
   "cell_type": "code",
   "execution_count": 12,
   "metadata": {},
   "outputs": [
    {
     "data": {
      "image/png": "[encoded data removed]",
      "text/plain": [
       "<matplotlib.figure.Figure at 0x7f81e3ff9748>"
      ]
     },
     "metadata": {
      "needs_background": "light"
     },
     "output_type": "display_data"
    }
   ],
   "source": [
    "fig = plt.figure()\n",
    "ax = fig.add_subplot(111)\n",
    "plt.plot(np.arange(len(scores)), scores, label='DDPG')\n",
    "plt.plot(np.arange(len(scores)), avgs, c='r', label='average')\n",
    "plt.ylabel('Score')\n",
    "plt.xlabel('Episode #')\n",
    "plt.legend(loc='upper left')\n",
    "plt.show()"
   ]
  },
  {
   "cell_type": "markdown",
   "metadata": {},
   "source": [
    "### Iteration 5"
   ]
  },
  {
   "cell_type": "code",
   "execution_count": 8,
   "metadata": {},
   "outputs": [
    {
     "data": {
      "text/plain": [
       "0.06"
      ]
     },
     "execution_count": 8,
     "metadata": {},
     "output_type": "execute_result"
    }
   ],
   "source": [
    "maddpg = reload(maddpg)\n",
    "MAgent = maddpg.MAgent\n",
    "\n",
    "maddpg.TAU = 1e-2"
   ]
  },
  {
   "cell_type": "code",
   "execution_count": null,
   "metadata": {},
   "outputs": [
    {
     "name": "stdout",
     "output_type": "stream",
     "text": [
      "Episode 50\tAverage Score: 0.00\n",
      "Episode 100\tAverage Score: 0.01\n",
      "Episode 150\tAverage Score: 0.03\n",
      "Episode 200\tAverage Score: 0.04\n",
      "Episode 250\tAverage Score: 0.04\n",
      "Episode 300\tAverage Score: 0.04\n",
      "Episode 350\tAverage Score: 0.05\n",
      "Episode 400\tAverage Score: 0.06\n",
      "Episode 450\tAverage Score: 0.08\n",
      "Episode 500\tAverage Score: 0.10\n",
      "Episode 550\tAverage Score: 0.11\n",
      "Episode 600\tAverage Score: 0.12\n",
      "Episode 650\tAverage Score: 0.14\n",
      "Episode 700\tAverage Score: 0.14\n",
      "Episode 750\tAverage Score: 0.16\n",
      "Episode 800\tAverage Score: 0.19\n",
      "Episode 850\tAverage Score: 0.20\n",
      "Episode 900\tAverage Score: 0.21\n",
      "Episode 950\tAverage Score: 0.25\n",
      "Episode 1000\tAverage Score: 0.30\n",
      "Episode 1050\tAverage Score: 0.33\n",
      "Episode 1100\tAverage Score: 0.43\n",
      "Episode 1150\tAverage Score: 0.46\n",
      "Episode 1200\tAverage Score: 0.45\n",
      "Episode 1250\tAverage Score: 0.46\n",
      "Episode 1272\tAverage Score: 0.46"
     ]
    }
   ],
   "source": [
    "agent = maddpg.MAgent(state_size, action_size, 42, num_agents=num_agents)\n",
    "scores, avgs = run_ddpg_multi(agent, n_episodes=5000, queue=100)"
   ]
  },
  {
   "cell_type": "code",
   "execution_count": null,
   "metadata": {},
   "outputs": [],
   "source": [
    "fig = plt.figure()\n",
    "ax = fig.add_subplot(111)\n",
    "plt.plot(np.arange(len(scores)), scores, label='DDPG')\n",
    "plt.plot(np.arange(len(scores)), avgs, c='r', label='average')\n",
    "plt.ylabel('Score')\n",
    "plt.xlabel('Episode #')\n",
    "plt.legend(loc='upper left')\n",
    "plt.show()"
   ]
  },
  {
   "cell_type": "code",
   "execution_count": null,
   "metadata": {},
   "outputs": [],
   "source": [
    "### Iteration 3\n",
    "\n",
    "XYZ\n",
    "\n",
    "- BUFFER_SIZE = int(1e6)  # replay buffer size\n",
    "- UPDATE_EVERY = 4        # Update every time step\n",
    "- NUM_UPDATE = 2          # Update once at each time step\n",
    "\n",
    "- BATCH_SIZE = 256        # minibatch size\n",
    "\n",
    "- TAU = 1e-2              # for soft update of target parameters (try some others)\n"
   ]
  },
  {
   "cell_type": "markdown",
   "metadata": {
    "heading_collapsed": "true"
   },
   "source": [
    "### Play"
   ]
  },
  {
   "cell_type": "code",
   "execution_count": 126,
   "metadata": {},
   "outputs": [],
   "source": [
    "import torch\n",
    "from maddpg import MAgent\n",
    "from importlib import reload\n",
    "import maddpg\n",
    "maddpg = reload(maddpg)\n",
    "MAgent = maddpg.MAgent"
   ]
  },
  {
   "cell_type": "code",
   "execution_count": 127,
   "metadata": {},
   "outputs": [],
   "source": [
    "agent = MAgent(state_size, action_size, 42, num_agents=num_agents)"
   ]
  },
  {
   "cell_type": "code",
   "execution_count": 128,
   "metadata": {},
   "outputs": [],
   "source": [
    "env_info = env.reset(train_mode=True)[brain_name]      \n",
    "states = env_info.vector_observations\n",
    "agent.reset() # Resets the noise\n",
    "scores = np.zeros(2)"
   ]
  },
  {
   "cell_type": "code",
   "execution_count": 129,
   "metadata": {},
   "outputs": [],
   "source": [
    "#while True:\n",
    "for _ in range(500):\n",
    "    actions = agent.act(states, add_noise=True)\n",
    "    # Take a step in the environment\n",
    "    env_info = env.step(actions)[brain_name]\n",
    "    # What do we get with the step\n",
    "    next_states = env_info.vector_observations        \n",
    "    rewards = env_info.rewards                         \n",
    "    dones = env_info.local_done\n",
    "    # Tell the agent\n",
    "    #for i in range(2):\n",
    "    #    agent.agents[i].memory.add(states[i], actions[i], rewards[i], next_states[i], dones[i])\n",
    "    agent.step(states, actions, rewards, next_states, dones)\n",
    "    scores += rewards                                  \n",
    "    states = next_states                               \n",
    "    if np.any(dones):                                  \n",
    "        break"
   ]
  },
  {
   "cell_type": "code",
   "execution_count": 132,
   "metadata": {},
   "outputs": [
    {
     "data": {
      "text/plain": [
       "<maddpg.ReplayBuffer at 0x7fe8fe05af60>"
      ]
     },
     "execution_count": 132,
     "metadata": {},
     "output_type": "execute_result"
    }
   ],
   "source": []
  },
  {
   "cell_type": "markdown",
   "metadata": {},
   "source": [
    "#### Play"
   ]
  },
  {
   "cell_type": "code",
   "execution_count": null,
   "metadata": {},
   "outputs": [],
   "source": [
    "ma_agent = MAgent(state_size, action_size, 42, num_agents=num_agents)"
   ]
  },
  {
   "cell_type": "code",
   "execution_count": 9,
   "metadata": {},
   "outputs": [],
   "source": [
    "env_info = env.reset(train_mode=True)[brain_name]     # reset the environment"
   ]
  },
  {
   "cell_type": "code",
   "execution_count": 51,
   "metadata": {},
   "outputs": [
    {
     "data": {
      "text/plain": [
       "[0.0, 0.0]"
      ]
     },
     "execution_count": 51,
     "metadata": {},
     "output_type": "execute_result"
    }
   ],
   "source": [
    "env_info.rewards"
   ]
  },
  {
   "cell_type": "code",
   "execution_count": 10,
   "metadata": {},
   "outputs": [],
   "source": [
    "states = env_info.vector_observations                  # get the current state (for each agent)"
   ]
  },
  {
   "cell_type": "code",
   "execution_count": 11,
   "metadata": {},
   "outputs": [
    {
     "data": {
      "text/plain": [
       "(2, 24)"
      ]
     },
     "execution_count": 11,
     "metadata": {},
     "output_type": "execute_result"
    }
   ],
   "source": [
    "states.shape # state size is 8 but then stack on 3 so get 24"
   ]
  },
  {
   "cell_type": "code",
   "execution_count": 17,
   "metadata": {},
   "outputs": [],
   "source": [
    "actions = np.random.randn(num_agents, action_size)"
   ]
  },
  {
   "cell_type": "code",
   "execution_count": 18,
   "metadata": {},
   "outputs": [
    {
     "data": {
      "text/plain": [
       "array([[-0.59609264,  0.66533179],\n",
       "       [ 1.46914752, -2.76437587]])"
      ]
     },
     "execution_count": 18,
     "metadata": {},
     "output_type": "execute_result"
    }
   ],
   "source": [
    "actions"
   ]
  },
  {
   "cell_type": "code",
   "execution_count": 19,
   "metadata": {},
   "outputs": [],
   "source": [
    "actions = np.clip(actions, -1, 1)"
   ]
  },
  {
   "cell_type": "code",
   "execution_count": 20,
   "metadata": {},
   "outputs": [
    {
     "data": {
      "text/plain": [
       "array([[-0.59609264,  0.66533179],\n",
       "       [ 1.        , -1.        ]])"
      ]
     },
     "execution_count": 20,
     "metadata": {},
     "output_type": "execute_result"
    }
   ],
   "source": [
    "actions"
   ]
  },
  {
   "cell_type": "code",
   "execution_count": null,
   "metadata": {},
   "outputs": [],
   "source": [
    "states = torch.from_numpy(states).float()"
   ]
  },
  {
   "cell_type": "code",
   "execution_count": 42,
   "metadata": {},
   "outputs": [],
   "source": [
    "actions = []\n",
    "for i in range(2):\n",
    "    agent = ma_agent.agents[i]\n",
    "    agent.actor_local.eval()\n",
    "    with torch.no_grad():\n",
    "        action = agent.actor_local(states[i].unsqueeze(0)).cpu().data.numpy().squeeze()\n",
    "    agent.actor_local.train()\n",
    "    actions.append(action)"
   ]
  },
  {
   "cell_type": "code",
   "execution_count": 45,
   "metadata": {},
   "outputs": [
    {
     "data": {
      "text/plain": [
       "(2, 2)"
      ]
     },
     "execution_count": 45,
     "metadata": {},
     "output_type": "execute_result"
    }
   ],
   "source": [
    "np.array(actions).shape"
   ]
  },
  {
   "cell_type": "code",
   "execution_count": 48,
   "metadata": {},
   "outputs": [
    {
     "data": {
      "text/plain": [
       "(2, 2)"
      ]
     },
     "execution_count": 48,
     "metadata": {},
     "output_type": "execute_result"
    }
   ],
   "source": [
    "ma_agent.noise.sample()"
   ]
  },
  {
   "cell_type": "code",
   "execution_count": 27,
   "metadata": {},
   "outputs": [
    {
     "data": {
      "text/plain": [
       "tensor(1.00000e-02 *\n",
       "       [[-1.0191,  1.3385],\n",
       "        [-1.0034,  1.5844]])"
      ]
     },
     "execution_count": 27,
     "metadata": {},
     "output_type": "execute_result"
    }
   ],
   "source": [
    " ma_agent.agents[0].actor_local(states)"
   ]
  },
  {
   "cell_type": "code",
   "execution_count": 32,
   "metadata": {},
   "outputs": [
    {
     "ename": "ValueError",
     "evalue": "Expected more than 1 value per channel when training, got input size [1, 256]",
     "output_type": "error",
     "traceback": [
      "\u001b[0;31m---------------------------------------------------------------------------\u001b[0m",
      "\u001b[0;31mValueError\u001b[0m                                Traceback (most recent call last)",
      "\u001b[0;32m<ipython-input-32-416c77e4444c>\u001b[0m in \u001b[0;36m<module>\u001b[0;34m\u001b[0m\n\u001b[0;32m----> 1\u001b[0;31m \u001b[0mma_agent\u001b[0m\u001b[0;34m.\u001b[0m\u001b[0magents\u001b[0m\u001b[0;34m[\u001b[0m\u001b[0;36m0\u001b[0m\u001b[0;34m]\u001b[0m\u001b[0;34m.\u001b[0m\u001b[0mactor_local\u001b[0m\u001b[0;34m(\u001b[0m\u001b[0mstates\u001b[0m\u001b[0;34m[\u001b[0m\u001b[0;36m0\u001b[0m\u001b[0;34m]\u001b[0m\u001b[0;34m.\u001b[0m\u001b[0munsqueeze\u001b[0m\u001b[0;34m(\u001b[0m\u001b[0;36m0\u001b[0m\u001b[0;34m)\u001b[0m\u001b[0;34m)\u001b[0m\u001b[0;34m\u001b[0m\u001b[0;34m\u001b[0m\u001b[0m\n\u001b[0m",
      "\u001b[0;32m/usr/local/anaconda3/envs/drlnd/lib/python3.6/site-packages/torch/nn/modules/module.py\u001b[0m in \u001b[0;36m__call__\u001b[0;34m(self, *input, **kwargs)\u001b[0m\n\u001b[1;32m    489\u001b[0m             \u001b[0mresult\u001b[0m \u001b[0;34m=\u001b[0m \u001b[0mself\u001b[0m\u001b[0;34m.\u001b[0m\u001b[0m_slow_forward\u001b[0m\u001b[0;34m(\u001b[0m\u001b[0;34m*\u001b[0m\u001b[0minput\u001b[0m\u001b[0;34m,\u001b[0m \u001b[0;34m**\u001b[0m\u001b[0mkwargs\u001b[0m\u001b[0;34m)\u001b[0m\u001b[0;34m\u001b[0m\u001b[0;34m\u001b[0m\u001b[0m\n\u001b[1;32m    490\u001b[0m         \u001b[0;32melse\u001b[0m\u001b[0;34m:\u001b[0m\u001b[0;34m\u001b[0m\u001b[0;34m\u001b[0m\u001b[0m\n\u001b[0;32m--> 491\u001b[0;31m             \u001b[0mresult\u001b[0m \u001b[0;34m=\u001b[0m \u001b[0mself\u001b[0m\u001b[0;34m.\u001b[0m\u001b[0mforward\u001b[0m\u001b[0;34m(\u001b[0m\u001b[0;34m*\u001b[0m\u001b[0minput\u001b[0m\u001b[0;34m,\u001b[0m \u001b[0;34m**\u001b[0m\u001b[0mkwargs\u001b[0m\u001b[0;34m)\u001b[0m\u001b[0;34m\u001b[0m\u001b[0;34m\u001b[0m\u001b[0m\n\u001b[0m\u001b[1;32m    492\u001b[0m         \u001b[0;32mfor\u001b[0m \u001b[0mhook\u001b[0m \u001b[0;32min\u001b[0m \u001b[0mself\u001b[0m\u001b[0;34m.\u001b[0m\u001b[0m_forward_hooks\u001b[0m\u001b[0;34m.\u001b[0m\u001b[0mvalues\u001b[0m\u001b[0;34m(\u001b[0m\u001b[0;34m)\u001b[0m\u001b[0;34m:\u001b[0m\u001b[0;34m\u001b[0m\u001b[0;34m\u001b[0m\u001b[0m\n\u001b[1;32m    493\u001b[0m             \u001b[0mhook_result\u001b[0m \u001b[0;34m=\u001b[0m \u001b[0mhook\u001b[0m\u001b[0;34m(\u001b[0m\u001b[0mself\u001b[0m\u001b[0;34m,\u001b[0m \u001b[0minput\u001b[0m\u001b[0;34m,\u001b[0m \u001b[0mresult\u001b[0m\u001b[0;34m)\u001b[0m\u001b[0;34m\u001b[0m\u001b[0;34m\u001b[0m\u001b[0m\n",
      "\u001b[0;32m~/Dropbox/ABD/Areas/Learn/udacity_rl/p3_collab-compet/model.py\u001b[0m in \u001b[0;36mforward\u001b[0;34m(self, state)\u001b[0m\n\u001b[1;32m     39\u001b[0m         \u001b[0;34m\"\"\"Build an actor (policy) network that maps states -> actions.\"\"\"\u001b[0m\u001b[0;34m\u001b[0m\u001b[0;34m\u001b[0m\u001b[0m\n\u001b[1;32m     40\u001b[0m         \u001b[0mx\u001b[0m \u001b[0;34m=\u001b[0m \u001b[0mF\u001b[0m\u001b[0;34m.\u001b[0m\u001b[0mrelu\u001b[0m\u001b[0;34m(\u001b[0m\u001b[0mself\u001b[0m\u001b[0;34m.\u001b[0m\u001b[0mfc1\u001b[0m\u001b[0;34m(\u001b[0m\u001b[0mstate\u001b[0m\u001b[0;34m)\u001b[0m\u001b[0;34m)\u001b[0m\u001b[0;34m\u001b[0m\u001b[0;34m\u001b[0m\u001b[0m\n\u001b[0;32m---> 41\u001b[0;31m         \u001b[0mx\u001b[0m \u001b[0;34m=\u001b[0m \u001b[0mself\u001b[0m\u001b[0;34m.\u001b[0m\u001b[0mbn1\u001b[0m\u001b[0;34m(\u001b[0m\u001b[0mx\u001b[0m\u001b[0;34m)\u001b[0m\u001b[0;34m\u001b[0m\u001b[0;34m\u001b[0m\u001b[0m\n\u001b[0m\u001b[1;32m     42\u001b[0m         \u001b[0mx\u001b[0m \u001b[0;34m=\u001b[0m \u001b[0mF\u001b[0m\u001b[0;34m.\u001b[0m\u001b[0mrelu\u001b[0m\u001b[0;34m(\u001b[0m\u001b[0mself\u001b[0m\u001b[0;34m.\u001b[0m\u001b[0mfc2\u001b[0m\u001b[0;34m(\u001b[0m\u001b[0mx\u001b[0m\u001b[0;34m)\u001b[0m\u001b[0;34m)\u001b[0m\u001b[0;34m\u001b[0m\u001b[0;34m\u001b[0m\u001b[0m\n\u001b[1;32m     43\u001b[0m         \u001b[0;32mreturn\u001b[0m \u001b[0mF\u001b[0m\u001b[0;34m.\u001b[0m\u001b[0mtanh\u001b[0m\u001b[0;34m(\u001b[0m\u001b[0mself\u001b[0m\u001b[0;34m.\u001b[0m\u001b[0mfc3\u001b[0m\u001b[0;34m(\u001b[0m\u001b[0mx\u001b[0m\u001b[0;34m)\u001b[0m\u001b[0;34m)\u001b[0m\u001b[0;34m\u001b[0m\u001b[0;34m\u001b[0m\u001b[0m\n",
      "\u001b[0;32m/usr/local/anaconda3/envs/drlnd/lib/python3.6/site-packages/torch/nn/modules/module.py\u001b[0m in \u001b[0;36m__call__\u001b[0;34m(self, *input, **kwargs)\u001b[0m\n\u001b[1;32m    489\u001b[0m             \u001b[0mresult\u001b[0m \u001b[0;34m=\u001b[0m \u001b[0mself\u001b[0m\u001b[0;34m.\u001b[0m\u001b[0m_slow_forward\u001b[0m\u001b[0;34m(\u001b[0m\u001b[0;34m*\u001b[0m\u001b[0minput\u001b[0m\u001b[0;34m,\u001b[0m \u001b[0;34m**\u001b[0m\u001b[0mkwargs\u001b[0m\u001b[0;34m)\u001b[0m\u001b[0;34m\u001b[0m\u001b[0;34m\u001b[0m\u001b[0m\n\u001b[1;32m    490\u001b[0m         \u001b[0;32melse\u001b[0m\u001b[0;34m:\u001b[0m\u001b[0;34m\u001b[0m\u001b[0;34m\u001b[0m\u001b[0m\n\u001b[0;32m--> 491\u001b[0;31m             \u001b[0mresult\u001b[0m \u001b[0;34m=\u001b[0m \u001b[0mself\u001b[0m\u001b[0;34m.\u001b[0m\u001b[0mforward\u001b[0m\u001b[0;34m(\u001b[0m\u001b[0;34m*\u001b[0m\u001b[0minput\u001b[0m\u001b[0;34m,\u001b[0m \u001b[0;34m**\u001b[0m\u001b[0mkwargs\u001b[0m\u001b[0;34m)\u001b[0m\u001b[0;34m\u001b[0m\u001b[0;34m\u001b[0m\u001b[0m\n\u001b[0m\u001b[1;32m    492\u001b[0m         \u001b[0;32mfor\u001b[0m \u001b[0mhook\u001b[0m \u001b[0;32min\u001b[0m \u001b[0mself\u001b[0m\u001b[0;34m.\u001b[0m\u001b[0m_forward_hooks\u001b[0m\u001b[0;34m.\u001b[0m\u001b[0mvalues\u001b[0m\u001b[0;34m(\u001b[0m\u001b[0;34m)\u001b[0m\u001b[0;34m:\u001b[0m\u001b[0;34m\u001b[0m\u001b[0;34m\u001b[0m\u001b[0m\n\u001b[1;32m    493\u001b[0m             \u001b[0mhook_result\u001b[0m \u001b[0;34m=\u001b[0m \u001b[0mhook\u001b[0m\u001b[0;34m(\u001b[0m\u001b[0mself\u001b[0m\u001b[0;34m,\u001b[0m \u001b[0minput\u001b[0m\u001b[0;34m,\u001b[0m \u001b[0mresult\u001b[0m\u001b[0;34m)\u001b[0m\u001b[0;34m\u001b[0m\u001b[0;34m\u001b[0m\u001b[0m\n",
      "\u001b[0;32m/usr/local/anaconda3/envs/drlnd/lib/python3.6/site-packages/torch/nn/modules/batchnorm.py\u001b[0m in \u001b[0;36mforward\u001b[0;34m(self, input)\u001b[0m\n\u001b[1;32m     47\u001b[0m         return F.batch_norm(\n\u001b[1;32m     48\u001b[0m             \u001b[0minput\u001b[0m\u001b[0;34m,\u001b[0m \u001b[0mself\u001b[0m\u001b[0;34m.\u001b[0m\u001b[0mrunning_mean\u001b[0m\u001b[0;34m,\u001b[0m \u001b[0mself\u001b[0m\u001b[0;34m.\u001b[0m\u001b[0mrunning_var\u001b[0m\u001b[0;34m,\u001b[0m \u001b[0mself\u001b[0m\u001b[0;34m.\u001b[0m\u001b[0mweight\u001b[0m\u001b[0;34m,\u001b[0m \u001b[0mself\u001b[0m\u001b[0;34m.\u001b[0m\u001b[0mbias\u001b[0m\u001b[0;34m,\u001b[0m\u001b[0;34m\u001b[0m\u001b[0;34m\u001b[0m\u001b[0m\n\u001b[0;32m---> 49\u001b[0;31m             self.training or not self.track_running_stats, self.momentum, self.eps)\n\u001b[0m\u001b[1;32m     50\u001b[0m \u001b[0;34m\u001b[0m\u001b[0m\n\u001b[1;32m     51\u001b[0m     \u001b[0;32mdef\u001b[0m \u001b[0mextra_repr\u001b[0m\u001b[0;34m(\u001b[0m\u001b[0mself\u001b[0m\u001b[0;34m)\u001b[0m\u001b[0;34m:\u001b[0m\u001b[0;34m\u001b[0m\u001b[0;34m\u001b[0m\u001b[0m\n",
      "\u001b[0;32m/usr/local/anaconda3/envs/drlnd/lib/python3.6/site-packages/torch/nn/functional.py\u001b[0m in \u001b[0;36mbatch_norm\u001b[0;34m(input, running_mean, running_var, weight, bias, training, momentum, eps)\u001b[0m\n\u001b[1;32m   1189\u001b[0m         \u001b[0msize\u001b[0m \u001b[0;34m=\u001b[0m \u001b[0mlist\u001b[0m\u001b[0;34m(\u001b[0m\u001b[0minput\u001b[0m\u001b[0;34m.\u001b[0m\u001b[0msize\u001b[0m\u001b[0;34m(\u001b[0m\u001b[0;34m)\u001b[0m\u001b[0;34m)\u001b[0m\u001b[0;34m\u001b[0m\u001b[0;34m\u001b[0m\u001b[0m\n\u001b[1;32m   1190\u001b[0m         \u001b[0;32mif\u001b[0m \u001b[0mreduce\u001b[0m\u001b[0;34m(\u001b[0m\u001b[0mmul\u001b[0m\u001b[0;34m,\u001b[0m \u001b[0msize\u001b[0m\u001b[0;34m[\u001b[0m\u001b[0;36m2\u001b[0m\u001b[0;34m:\u001b[0m\u001b[0;34m]\u001b[0m\u001b[0;34m,\u001b[0m \u001b[0msize\u001b[0m\u001b[0;34m[\u001b[0m\u001b[0;36m0\u001b[0m\u001b[0;34m]\u001b[0m\u001b[0;34m)\u001b[0m \u001b[0;34m==\u001b[0m \u001b[0;36m1\u001b[0m\u001b[0;34m:\u001b[0m\u001b[0;34m\u001b[0m\u001b[0;34m\u001b[0m\u001b[0m\n\u001b[0;32m-> 1191\u001b[0;31m             \u001b[0;32mraise\u001b[0m \u001b[0mValueError\u001b[0m\u001b[0;34m(\u001b[0m\u001b[0;34m'Expected more than 1 value per channel when training, got input size {}'\u001b[0m\u001b[0;34m.\u001b[0m\u001b[0mformat\u001b[0m\u001b[0;34m(\u001b[0m\u001b[0msize\u001b[0m\u001b[0;34m)\u001b[0m\u001b[0;34m)\u001b[0m\u001b[0;34m\u001b[0m\u001b[0;34m\u001b[0m\u001b[0m\n\u001b[0m\u001b[1;32m   1192\u001b[0m     return torch.batch_norm(\n\u001b[1;32m   1193\u001b[0m         \u001b[0minput\u001b[0m\u001b[0;34m,\u001b[0m \u001b[0mweight\u001b[0m\u001b[0;34m,\u001b[0m \u001b[0mbias\u001b[0m\u001b[0;34m,\u001b[0m \u001b[0mrunning_mean\u001b[0m\u001b[0;34m,\u001b[0m \u001b[0mrunning_var\u001b[0m\u001b[0;34m,\u001b[0m\u001b[0;34m\u001b[0m\u001b[0;34m\u001b[0m\u001b[0m\n",
      "\u001b[0;31mValueError\u001b[0m: Expected more than 1 value per channel when training, got input size [1, 256]"
     ]
    }
   ],
   "source": [
    "agent.actor_local.eval()\n",
    "ma_agent.agents[0].actor_local(states[0].unsqueeze(0))"
   ]
  },
  {
   "cell_type": "code",
   "execution_count": 60,
   "metadata": {},
   "outputs": [
    {
     "data": {
      "text/plain": [
       "torch.Size([2, 48])"
      ]
     },
     "execution_count": 60,
     "metadata": {},
     "output_type": "execute_result"
    }
   ],
   "source": [
    "torch.cat((torch.from_numpy(states), torch.from_numpy(states)), dim=1).shape"
   ]
  },
  {
   "cell_type": "code",
   "execution_count": 56,
   "metadata": {},
   "outputs": [
    {
     "data": {
      "text/plain": [
       "array([[ 0.        ,  0.        ,  0.        ,  0.        ,  0.        ,\n",
       "         0.        ,  0.        ,  0.        ,  0.        ,  0.        ,\n",
       "         0.        ,  0.        ,  0.        ,  0.        ,  0.        ,\n",
       "         0.        , -7.98256969, -1.5       , -0.        ,  0.        ,\n",
       "        -7.11741829,  5.91759634, -0.        ,  0.        ],\n",
       "       [ 0.        ,  0.        ,  0.        ,  0.        ,  0.        ,\n",
       "         0.        ,  0.        ,  0.        ,  0.        ,  0.        ,\n",
       "         0.        ,  0.        ,  0.        ,  0.        ,  0.        ,\n",
       "         0.        , -7.40637112, -1.5       ,  0.        ,  0.        ,\n",
       "         7.11741829,  5.91759634,  0.        ,  0.        ]])"
      ]
     },
     "execution_count": 56,
     "metadata": {},
     "output_type": "execute_result"
    }
   ],
   "source": [
    "torch."
   ]
  },
  {
   "cell_type": "code",
   "execution_count": null,
   "metadata": {},
   "outputs": [],
   "source": [
    "ma_agent.agents[0].memory.add(states[0], actions[0], rewards[0], next_states[0], dones[i])"
   ]
  }
 ],
 "metadata": {
  "kernelspec": {
   "display_name": "Python 3",
   "language": "python",
   "name": "python3"
  },
  "language_info": {
   "codemirror_mode": {
    "name": "ipython",
    "version": 3
   },
   "file_extension": ".py",
   "mimetype": "text/x-python",
   "name": "python",
   "nbconvert_exporter": "python",
   "pygments_lexer": "ipython3",
   "version": "3.6.3"
  }
 },
 "nbformat": 4,
 "nbformat_minor": 4
}
